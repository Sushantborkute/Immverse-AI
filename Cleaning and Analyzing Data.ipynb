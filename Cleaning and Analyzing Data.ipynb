{
 "cells": [
  {
   "cell_type": "markdown",
   "id": "fec6d944",
   "metadata": {},
   "source": [
    " Name :- Sushant Borkute\n",
    " \n",
    " Task :- Cleaning and Analyzing Data"
   ]
  },
  {
   "cell_type": "code",
   "execution_count": 1,
   "id": "547597ec",
   "metadata": {},
   "outputs": [],
   "source": [
    "# Import Library\n",
    "import pandas as pd\n",
    "import matplotlib.pyplot as plt"
   ]
  },
  {
   "cell_type": "code",
   "execution_count": 2,
   "id": "5a01196f",
   "metadata": {},
   "outputs": [],
   "source": [
    "# Load dataset \n",
    "df = pd.read_csv('amazon_grocery_data.csv')"
   ]
  },
  {
   "cell_type": "code",
   "execution_count": 3,
   "id": "706b0162",
   "metadata": {},
   "outputs": [
    {
     "data": {
      "text/html": [
       "<div>\n",
       "<style scoped>\n",
       "    .dataframe tbody tr th:only-of-type {\n",
       "        vertical-align: middle;\n",
       "    }\n",
       "\n",
       "    .dataframe tbody tr th {\n",
       "        vertical-align: top;\n",
       "    }\n",
       "\n",
       "    .dataframe thead th {\n",
       "        text-align: right;\n",
       "    }\n",
       "</style>\n",
       "<table border=\"1\" class=\"dataframe\">\n",
       "  <thead>\n",
       "    <tr style=\"text-align: right;\">\n",
       "      <th></th>\n",
       "      <th>Unnamed: 0</th>\n",
       "      <th>market_place</th>\n",
       "      <th>customer_id</th>\n",
       "      <th>review_id</th>\n",
       "      <th>product_id</th>\n",
       "      <th>product_parent</th>\n",
       "      <th>product_title</th>\n",
       "      <th>product_category</th>\n",
       "      <th>star_rating</th>\n",
       "      <th>helpful_votes</th>\n",
       "      <th>total_votes</th>\n",
       "      <th>vine</th>\n",
       "      <th>verified_purchase</th>\n",
       "      <th>review_headline</th>\n",
       "      <th>review_body</th>\n",
       "      <th>review_date</th>\n",
       "      <th>Sentiment_grcry</th>\n",
       "    </tr>\n",
       "  </thead>\n",
       "  <tbody>\n",
       "    <tr>\n",
       "      <th>0</th>\n",
       "      <td>0</td>\n",
       "      <td>\"US\"</td>\n",
       "      <td>\"42521656\"</td>\n",
       "      <td>\"R26MV8D0KG6QI6\"</td>\n",
       "      <td>\"B000SAQCWC\"</td>\n",
       "      <td>\"159713740\"</td>\n",
       "      <td>\"The Cravings Place Chocolate Chunk Cookie Mix...</td>\n",
       "      <td>\"Grocery\"</td>\n",
       "      <td>1</td>\n",
       "      <td>0</td>\n",
       "      <td>0</td>\n",
       "      <td>0 \\t(N)</td>\n",
       "      <td>1 \\t(Y)</td>\n",
       "      <td>\"Using these for years - love them.\"</td>\n",
       "      <td>\"As a family allergic to wheat, dairy, eggs, n...</td>\n",
       "      <td>2015-08-31</td>\n",
       "      <td>positive</td>\n",
       "    </tr>\n",
       "    <tr>\n",
       "      <th>1</th>\n",
       "      <td>1</td>\n",
       "      <td>\"US\"</td>\n",
       "      <td>\"12049833\"</td>\n",
       "      <td>\"R1OF8GP57AQ1A0\"</td>\n",
       "      <td>\"B00509LVIQ\"</td>\n",
       "      <td>\"138680402\"</td>\n",
       "      <td>\"Mauna Loa Macadamias, 11 Ounce Packages\"</td>\n",
       "      <td>\"Grocery\"</td>\n",
       "      <td>1</td>\n",
       "      <td>0</td>\n",
       "      <td>0</td>\n",
       "      <td>0 \\t(N)</td>\n",
       "      <td>1 \\t(Y)</td>\n",
       "      <td>\"Wonderful\"</td>\n",
       "      <td>\"My favorite nut. Creamy, crunchy, salty, and ...</td>\n",
       "      <td>2015-08-31</td>\n",
       "      <td>positive</td>\n",
       "    </tr>\n",
       "    <tr>\n",
       "      <th>2</th>\n",
       "      <td>2</td>\n",
       "      <td>\"US\"</td>\n",
       "      <td>\"107642\"</td>\n",
       "      <td>\"R3VDC1QB6MC4ZZ\"</td>\n",
       "      <td>\"B00KHXESLC\"</td>\n",
       "      <td>\"252021703\"</td>\n",
       "      <td>\"Organic Matcha Green Tea Powder - 100% Pure M...</td>\n",
       "      <td>\"Grocery\"</td>\n",
       "      <td>1</td>\n",
       "      <td>0</td>\n",
       "      <td>0</td>\n",
       "      <td>0 \\t(N)</td>\n",
       "      <td>0 \\t(N)</td>\n",
       "      <td>\"Five Stars\"</td>\n",
       "      <td>\"This green tea tastes so good! My girlfriend ...</td>\n",
       "      <td>2015-08-31</td>\n",
       "      <td>positive</td>\n",
       "    </tr>\n",
       "    <tr>\n",
       "      <th>3</th>\n",
       "      <td>3</td>\n",
       "      <td>\"US\"</td>\n",
       "      <td>\"6042304\"</td>\n",
       "      <td>\"R12FA3DCF8F9ER\"</td>\n",
       "      <td>\"B000F8JIIC\"</td>\n",
       "      <td>\"752728342\"</td>\n",
       "      <td>\"15oz Raspberry Lyons Designer Dessert Syrup S...</td>\n",
       "      <td>\"Grocery\"</td>\n",
       "      <td>1</td>\n",
       "      <td>0</td>\n",
       "      <td>0</td>\n",
       "      <td>0 \\t(N)</td>\n",
       "      <td>1 \\t(Y)</td>\n",
       "      <td>\"Five Stars\"</td>\n",
       "      <td>\"I love Melissa's brand but this is a great se...</td>\n",
       "      <td>2015-08-31</td>\n",
       "      <td>positive</td>\n",
       "    </tr>\n",
       "    <tr>\n",
       "      <th>4</th>\n",
       "      <td>4</td>\n",
       "      <td>\"US\"</td>\n",
       "      <td>\"18123821\"</td>\n",
       "      <td>\"RTWHVNV6X4CNJ\"</td>\n",
       "      <td>\"B004ZWR9RQ\"</td>\n",
       "      <td>\"552138758\"</td>\n",
       "      <td>\"Stride Spark Kinetic Fruit Sugar Free Gum, 14...</td>\n",
       "      <td>\"Grocery\"</td>\n",
       "      <td>1</td>\n",
       "      <td>0</td>\n",
       "      <td>0</td>\n",
       "      <td>0 \\t(N)</td>\n",
       "      <td>1 \\t(Y)</td>\n",
       "      <td>\"Five Stars\"</td>\n",
       "      <td>\"good\"</td>\n",
       "      <td>2015-08-31</td>\n",
       "      <td>positive</td>\n",
       "    </tr>\n",
       "    <tr>\n",
       "      <th>...</th>\n",
       "      <td>...</td>\n",
       "      <td>...</td>\n",
       "      <td>...</td>\n",
       "      <td>...</td>\n",
       "      <td>...</td>\n",
       "      <td>...</td>\n",
       "      <td>...</td>\n",
       "      <td>...</td>\n",
       "      <td>...</td>\n",
       "      <td>...</td>\n",
       "      <td>...</td>\n",
       "      <td>...</td>\n",
       "      <td>...</td>\n",
       "      <td>...</td>\n",
       "      <td>...</td>\n",
       "      <td>...</td>\n",
       "      <td>...</td>\n",
       "    </tr>\n",
       "    <tr>\n",
       "      <th>95</th>\n",
       "      <td>95</td>\n",
       "      <td>\"US\"</td>\n",
       "      <td>\"41855640\"</td>\n",
       "      <td>\"R14RNK4F6OPVHI\"</td>\n",
       "      <td>\"B00MGDVYCM\"</td>\n",
       "      <td>\"527526119\"</td>\n",
       "      <td>\"Emerald Cocoa Roast Dark Chocolate Almonds - ...</td>\n",
       "      <td>\"Grocery\"</td>\n",
       "      <td>1</td>\n",
       "      <td>0</td>\n",
       "      <td>0</td>\n",
       "      <td>0 \\t(N)</td>\n",
       "      <td>1 \\t(Y)</td>\n",
       "      <td>\"Five Stars\"</td>\n",
       "      <td>\"Delicious\"</td>\n",
       "      <td>2015-08-31</td>\n",
       "      <td>positive</td>\n",
       "    </tr>\n",
       "    <tr>\n",
       "      <th>96</th>\n",
       "      <td>96</td>\n",
       "      <td>\"US\"</td>\n",
       "      <td>\"13730310\"</td>\n",
       "      <td>\"R29XUIKKYB1SVA\"</td>\n",
       "      <td>\"B00NESWWIS\"</td>\n",
       "      <td>\"807933739\"</td>\n",
       "      <td>\"Fiber One Chewy Bars Oats &amp; Chocolate: 36 Bar...</td>\n",
       "      <td>\"Grocery\"</td>\n",
       "      <td>1</td>\n",
       "      <td>2</td>\n",
       "      <td>3</td>\n",
       "      <td>0 \\t(N)</td>\n",
       "      <td>0 \\t(N)</td>\n",
       "      <td>\"Very Satisfying!!\"</td>\n",
       "      <td>\"I needed more fiber in my diet and decided to...</td>\n",
       "      <td>2015-08-31</td>\n",
       "      <td>positive</td>\n",
       "    </tr>\n",
       "    <tr>\n",
       "      <th>97</th>\n",
       "      <td>97</td>\n",
       "      <td>\"US\"</td>\n",
       "      <td>\"48872127\"</td>\n",
       "      <td>\"R22YPES48XVR9Z\"</td>\n",
       "      <td>\"B00O8SQTIM\"</td>\n",
       "      <td>\"46432804\"</td>\n",
       "      <td>\"Gerber Good Start Infant Formula Sample Box\"</td>\n",
       "      <td>\"Grocery\"</td>\n",
       "      <td>0</td>\n",
       "      <td>0</td>\n",
       "      <td>0</td>\n",
       "      <td>0 \\t(N)</td>\n",
       "      <td>0 \\t(N)</td>\n",
       "      <td>\"Okay formula\"</td>\n",
       "      <td>\"Like most working moms, I can't pump enough t...</td>\n",
       "      <td>2015-08-31</td>\n",
       "      <td>negaitve</td>\n",
       "    </tr>\n",
       "    <tr>\n",
       "      <th>98</th>\n",
       "      <td>98</td>\n",
       "      <td>\"US\"</td>\n",
       "      <td>\"12859252\"</td>\n",
       "      <td>\"RTL7D7ONFKQTO\"</td>\n",
       "      <td>\"B0064OLVFY\"</td>\n",
       "      <td>\"518513658\"</td>\n",
       "      <td>\"Cheese Wax 1 lb - Red\"</td>\n",
       "      <td>\"Grocery\"</td>\n",
       "      <td>1</td>\n",
       "      <td>0</td>\n",
       "      <td>0</td>\n",
       "      <td>0 \\t(N)</td>\n",
       "      <td>1 \\t(Y)</td>\n",
       "      <td>\"Five Stars\"</td>\n",
       "      <td>\"Love it!\"</td>\n",
       "      <td>2015-08-31</td>\n",
       "      <td>positive</td>\n",
       "    </tr>\n",
       "    <tr>\n",
       "      <th>99</th>\n",
       "      <td>99</td>\n",
       "      <td>\"US\"</td>\n",
       "      <td>\"33828780\"</td>\n",
       "      <td>\"R2B9WKQP7ZZVPQ\"</td>\n",
       "      <td>\"B006ONNLNA\"</td>\n",
       "      <td>\"702537450\"</td>\n",
       "      <td>\"Gustaf’s Traditional Dutch Authentic Double S...</td>\n",
       "      <td>\"Grocery\"</td>\n",
       "      <td>0</td>\n",
       "      <td>0</td>\n",
       "      <td>5</td>\n",
       "      <td>0 \\t(N)</td>\n",
       "      <td>1 \\t(Y)</td>\n",
       "      <td>\"It's actually TOO salty.\"</td>\n",
       "      <td>\"Not what I expected. Did not like it at all.\"</td>\n",
       "      <td>2015-08-31</td>\n",
       "      <td>negaitve</td>\n",
       "    </tr>\n",
       "  </tbody>\n",
       "</table>\n",
       "<p>100 rows × 17 columns</p>\n",
       "</div>"
      ],
      "text/plain": [
       "    Unnamed: 0 market_place customer_id         review_id    product_id  \\\n",
       "0            0         \"US\"  \"42521656\"  \"R26MV8D0KG6QI6\"  \"B000SAQCWC\"   \n",
       "1            1         \"US\"  \"12049833\"  \"R1OF8GP57AQ1A0\"  \"B00509LVIQ\"   \n",
       "2            2         \"US\"    \"107642\"  \"R3VDC1QB6MC4ZZ\"  \"B00KHXESLC\"   \n",
       "3            3         \"US\"   \"6042304\"  \"R12FA3DCF8F9ER\"  \"B000F8JIIC\"   \n",
       "4            4         \"US\"  \"18123821\"   \"RTWHVNV6X4CNJ\"  \"B004ZWR9RQ\"   \n",
       "..         ...          ...         ...               ...           ...   \n",
       "95          95         \"US\"  \"41855640\"  \"R14RNK4F6OPVHI\"  \"B00MGDVYCM\"   \n",
       "96          96         \"US\"  \"13730310\"  \"R29XUIKKYB1SVA\"  \"B00NESWWIS\"   \n",
       "97          97         \"US\"  \"48872127\"  \"R22YPES48XVR9Z\"  \"B00O8SQTIM\"   \n",
       "98          98         \"US\"  \"12859252\"   \"RTL7D7ONFKQTO\"  \"B0064OLVFY\"   \n",
       "99          99         \"US\"  \"33828780\"  \"R2B9WKQP7ZZVPQ\"  \"B006ONNLNA\"   \n",
       "\n",
       "   product_parent                                      product_title  \\\n",
       "0     \"159713740\"  \"The Cravings Place Chocolate Chunk Cookie Mix...   \n",
       "1     \"138680402\"          \"Mauna Loa Macadamias, 11 Ounce Packages\"   \n",
       "2     \"252021703\"  \"Organic Matcha Green Tea Powder - 100% Pure M...   \n",
       "3     \"752728342\"  \"15oz Raspberry Lyons Designer Dessert Syrup S...   \n",
       "4     \"552138758\"  \"Stride Spark Kinetic Fruit Sugar Free Gum, 14...   \n",
       "..            ...                                                ...   \n",
       "95    \"527526119\"  \"Emerald Cocoa Roast Dark Chocolate Almonds - ...   \n",
       "96    \"807933739\"  \"Fiber One Chewy Bars Oats & Chocolate: 36 Bar...   \n",
       "97     \"46432804\"      \"Gerber Good Start Infant Formula Sample Box\"   \n",
       "98    \"518513658\"                            \"Cheese Wax 1 lb - Red\"   \n",
       "99    \"702537450\"  \"Gustaf’s Traditional Dutch Authentic Double S...   \n",
       "\n",
       "   product_category  star_rating  helpful_votes  total_votes     vine  \\\n",
       "0         \"Grocery\"            1              0            0  0 \\t(N)   \n",
       "1         \"Grocery\"            1              0            0  0 \\t(N)   \n",
       "2         \"Grocery\"            1              0            0  0 \\t(N)   \n",
       "3         \"Grocery\"            1              0            0  0 \\t(N)   \n",
       "4         \"Grocery\"            1              0            0  0 \\t(N)   \n",
       "..              ...          ...            ...          ...      ...   \n",
       "95        \"Grocery\"            1              0            0  0 \\t(N)   \n",
       "96        \"Grocery\"            1              2            3  0 \\t(N)   \n",
       "97        \"Grocery\"            0              0            0  0 \\t(N)   \n",
       "98        \"Grocery\"            1              0            0  0 \\t(N)   \n",
       "99        \"Grocery\"            0              0            5  0 \\t(N)   \n",
       "\n",
       "   verified_purchase                       review_headline  \\\n",
       "0            1 \\t(Y)  \"Using these for years - love them.\"   \n",
       "1            1 \\t(Y)                           \"Wonderful\"   \n",
       "2            0 \\t(N)                          \"Five Stars\"   \n",
       "3            1 \\t(Y)                          \"Five Stars\"   \n",
       "4            1 \\t(Y)                          \"Five Stars\"   \n",
       "..               ...                                   ...   \n",
       "95           1 \\t(Y)                          \"Five Stars\"   \n",
       "96           0 \\t(N)                   \"Very Satisfying!!\"   \n",
       "97           0 \\t(N)                        \"Okay formula\"   \n",
       "98           1 \\t(Y)                          \"Five Stars\"   \n",
       "99           1 \\t(Y)            \"It's actually TOO salty.\"   \n",
       "\n",
       "                                          review_body review_date  \\\n",
       "0   \"As a family allergic to wheat, dairy, eggs, n...  2015-08-31   \n",
       "1   \"My favorite nut. Creamy, crunchy, salty, and ...  2015-08-31   \n",
       "2   \"This green tea tastes so good! My girlfriend ...  2015-08-31   \n",
       "3   \"I love Melissa's brand but this is a great se...  2015-08-31   \n",
       "4                                              \"good\"  2015-08-31   \n",
       "..                                                ...         ...   \n",
       "95                                        \"Delicious\"  2015-08-31   \n",
       "96  \"I needed more fiber in my diet and decided to...  2015-08-31   \n",
       "97  \"Like most working moms, I can't pump enough t...  2015-08-31   \n",
       "98                                         \"Love it!\"  2015-08-31   \n",
       "99     \"Not what I expected. Did not like it at all.\"  2015-08-31   \n",
       "\n",
       "   Sentiment_grcry  \n",
       "0         positive  \n",
       "1         positive  \n",
       "2         positive  \n",
       "3         positive  \n",
       "4         positive  \n",
       "..             ...  \n",
       "95        positive  \n",
       "96        positive  \n",
       "97        negaitve  \n",
       "98        positive  \n",
       "99        negaitve  \n",
       "\n",
       "[100 rows x 17 columns]"
      ]
     },
     "execution_count": 3,
     "metadata": {},
     "output_type": "execute_result"
    }
   ],
   "source": [
    "# show dataset\n",
    "df"
   ]
  },
  {
   "cell_type": "code",
   "execution_count": 4,
   "id": "13cd00c6",
   "metadata": {},
   "outputs": [
    {
     "name": "stdout",
     "output_type": "stream",
     "text": [
      "Basic Statistics:\n",
      "       Unnamed: 0  star_rating  helpful_votes  total_votes\n",
      "count  100.000000   100.000000     100.000000   100.000000\n",
      "mean    49.500000     0.830000       0.490000     0.670000\n",
      "std     29.011492     0.377525       1.010001     1.287508\n",
      "min      0.000000     0.000000       0.000000     0.000000\n",
      "25%     24.750000     1.000000       0.000000     0.000000\n",
      "50%     49.500000     1.000000       0.000000     0.000000\n",
      "75%     74.250000     1.000000       1.000000     1.000000\n",
      "max     99.000000     1.000000       5.000000     7.000000\n"
     ]
    }
   ],
   "source": [
    "# Basic Statistics\n",
    "basic_stats = df.describe()\n",
    "print(\"Basic Statistics:\")\n",
    "print(basic_stats)"
   ]
  },
  {
   "cell_type": "code",
   "execution_count": 5,
   "id": "78de3667",
   "metadata": {},
   "outputs": [
    {
     "name": "stdout",
     "output_type": "stream",
     "text": [
      "\n",
      "missing Values:\n",
      "Unnamed: 0           0\n",
      "market_place         0\n",
      "customer_id          0\n",
      "review_id            0\n",
      "product_id           0\n",
      "product_parent       0\n",
      "product_title        0\n",
      "product_category     0\n",
      "star_rating          0\n",
      "helpful_votes        0\n",
      "total_votes          0\n",
      "vine                 0\n",
      "verified_purchase    0\n",
      "review_headline      0\n",
      "review_body          0\n",
      "review_date          0\n",
      "Sentiment_grcry      0\n",
      "dtype: int64\n"
     ]
    }
   ],
   "source": [
    "# Missing Values\n",
    "missing_value = df.isnull().sum()\n",
    "print(\"\\nmissing Values:\")\n",
    "print(missing_value)"
   ]
  },
  {
   "cell_type": "code",
   "execution_count": 6,
   "id": "f11d3ad7",
   "metadata": {},
   "outputs": [
    {
     "data": {
      "image/png": "[encoded data removed]",
      "text/plain": [
       "<Figure size 720x432 with 1 Axes>"
      ]
     },
     "metadata": {
      "needs_background": "light"
     },
     "output_type": "display_data"
    }
   ],
   "source": [
    "# Outliers (using boxplot)\n",
    "df.boxplot(figsize=(10,6))\n",
    "plt.title(\"Box plot for outliers\")\n",
    "plt.show()"
   ]
  },
  {
   "cell_type": "code",
   "execution_count": 7,
   "id": "0e89b31d",
   "metadata": {},
   "outputs": [],
   "source": [
    "# Handling Missing Value\n",
    "df.dropna(inplace=True)"
   ]
  },
  {
   "cell_type": "code",
   "execution_count": 8,
   "id": "bff4c558",
   "metadata": {},
   "outputs": [],
   "source": [
    "# Correcting Inconsistent Formatting\n",
    "df['review_date'] = pd.to_datetime(df['review_date'],errors='coerce')"
   ]
  },
  {
   "cell_type": "code",
   "execution_count": 9,
   "id": "9bb2fa6d",
   "metadata": {},
   "outputs": [],
   "source": [
    "# Removing Duplicate\n",
    "df.drop_duplicates(inplace=True)"
   ]
  },
  {
   "cell_type": "code",
   "execution_count": 10,
   "id": "15078eb6",
   "metadata": {},
   "outputs": [],
   "source": [
    "# Standardizing Categorical Values\n",
    "df['product_category'] = df['product_category'].str.lower()"
   ]
  },
  {
   "cell_type": "code",
   "execution_count": 11,
   "id": "7f82f68a",
   "metadata": {},
   "outputs": [
    {
     "name": "stdout",
     "output_type": "stream",
     "text": [
      "cleaned Dataset\n",
      "   Unnamed: 0 market_place customer_id         review_id    product_id  \\\n",
      "0           0         \"US\"  \"42521656\"  \"R26MV8D0KG6QI6\"  \"B000SAQCWC\"   \n",
      "1           1         \"US\"  \"12049833\"  \"R1OF8GP57AQ1A0\"  \"B00509LVIQ\"   \n",
      "2           2         \"US\"    \"107642\"  \"R3VDC1QB6MC4ZZ\"  \"B00KHXESLC\"   \n",
      "3           3         \"US\"   \"6042304\"  \"R12FA3DCF8F9ER\"  \"B000F8JIIC\"   \n",
      "4           4         \"US\"  \"18123821\"   \"RTWHVNV6X4CNJ\"  \"B004ZWR9RQ\"   \n",
      "\n",
      "  product_parent                                      product_title  \\\n",
      "0    \"159713740\"  \"The Cravings Place Chocolate Chunk Cookie Mix...   \n",
      "1    \"138680402\"          \"Mauna Loa Macadamias, 11 Ounce Packages\"   \n",
      "2    \"252021703\"  \"Organic Matcha Green Tea Powder - 100% Pure M...   \n",
      "3    \"752728342\"  \"15oz Raspberry Lyons Designer Dessert Syrup S...   \n",
      "4    \"552138758\"  \"Stride Spark Kinetic Fruit Sugar Free Gum, 14...   \n",
      "\n",
      "  product_category  star_rating  helpful_votes  total_votes     vine  \\\n",
      "0        \"grocery\"            1              0            0  0 \\t(N)   \n",
      "1        \"grocery\"            1              0            0  0 \\t(N)   \n",
      "2        \"grocery\"            1              0            0  0 \\t(N)   \n",
      "3        \"grocery\"            1              0            0  0 \\t(N)   \n",
      "4        \"grocery\"            1              0            0  0 \\t(N)   \n",
      "\n",
      "  verified_purchase                       review_headline  \\\n",
      "0           1 \\t(Y)  \"Using these for years - love them.\"   \n",
      "1           1 \\t(Y)                           \"Wonderful\"   \n",
      "2           0 \\t(N)                          \"Five Stars\"   \n",
      "3           1 \\t(Y)                          \"Five Stars\"   \n",
      "4           1 \\t(Y)                          \"Five Stars\"   \n",
      "\n",
      "                                         review_body review_date  \\\n",
      "0  \"As a family allergic to wheat, dairy, eggs, n...  2015-08-31   \n",
      "1  \"My favorite nut. Creamy, crunchy, salty, and ...  2015-08-31   \n",
      "2  \"This green tea tastes so good! My girlfriend ...  2015-08-31   \n",
      "3  \"I love Melissa's brand but this is a great se...  2015-08-31   \n",
      "4                                             \"good\"  2015-08-31   \n",
      "\n",
      "  Sentiment_grcry  \n",
      "0        positive  \n",
      "1        positive  \n",
      "2        positive  \n",
      "3        positive  \n",
      "4        positive  \n"
     ]
    }
   ],
   "source": [
    "# Print the Cleaned Dataset\n",
    "print(\"cleaned Dataset\")\n",
    "print(df.head())"
   ]
  },
  {
   "cell_type": "code",
   "execution_count": 12,
   "id": "82165ccd",
   "metadata": {},
   "outputs": [],
   "source": [
    "# Convert 'review_date' to datetime\n",
    "df['review_date'] = pd.to_datetime(df['review_date'], errors='coerce')"
   ]
  },
  {
   "cell_type": "code",
   "execution_count": 13,
   "id": "aa0486a2",
   "metadata": {},
   "outputs": [],
   "source": [
    "#Create a new feature for the length of the review_body\n",
    "df['review_body_length'] = df['review_body'].str.len()"
   ]
  },
  {
   "cell_type": "code",
   "execution_count": 14,
   "id": "fadae7d9",
   "metadata": {},
   "outputs": [
    {
     "name": "stdout",
     "output_type": "stream",
     "text": [
      "Modified Dataset:\n",
      "   Unnamed: 0 market_place customer_id         review_id    product_id  \\\n",
      "0           0         \"US\"  \"42521656\"  \"R26MV8D0KG6QI6\"  \"B000SAQCWC\"   \n",
      "1           1         \"US\"  \"12049833\"  \"R1OF8GP57AQ1A0\"  \"B00509LVIQ\"   \n",
      "2           2         \"US\"    \"107642\"  \"R3VDC1QB6MC4ZZ\"  \"B00KHXESLC\"   \n",
      "3           3         \"US\"   \"6042304\"  \"R12FA3DCF8F9ER\"  \"B000F8JIIC\"   \n",
      "4           4         \"US\"  \"18123821\"   \"RTWHVNV6X4CNJ\"  \"B004ZWR9RQ\"   \n",
      "\n",
      "  product_parent                                      product_title  \\\n",
      "0    \"159713740\"  \"The Cravings Place Chocolate Chunk Cookie Mix...   \n",
      "1    \"138680402\"          \"Mauna Loa Macadamias, 11 Ounce Packages\"   \n",
      "2    \"252021703\"  \"Organic Matcha Green Tea Powder - 100% Pure M...   \n",
      "3    \"752728342\"  \"15oz Raspberry Lyons Designer Dessert Syrup S...   \n",
      "4    \"552138758\"  \"Stride Spark Kinetic Fruit Sugar Free Gum, 14...   \n",
      "\n",
      "  product_category  star_rating  helpful_votes  total_votes     vine  \\\n",
      "0        \"grocery\"            1              0            0  0 \\t(N)   \n",
      "1        \"grocery\"            1              0            0  0 \\t(N)   \n",
      "2        \"grocery\"            1              0            0  0 \\t(N)   \n",
      "3        \"grocery\"            1              0            0  0 \\t(N)   \n",
      "4        \"grocery\"            1              0            0  0 \\t(N)   \n",
      "\n",
      "  verified_purchase                       review_headline  \\\n",
      "0           1 \\t(Y)  \"Using these for years - love them.\"   \n",
      "1           1 \\t(Y)                           \"Wonderful\"   \n",
      "2           0 \\t(N)                          \"Five Stars\"   \n",
      "3           1 \\t(Y)                          \"Five Stars\"   \n",
      "4           1 \\t(Y)                          \"Five Stars\"   \n",
      "\n",
      "                                         review_body review_date  \\\n",
      "0  \"As a family allergic to wheat, dairy, eggs, n...  2015-08-31   \n",
      "1  \"My favorite nut. Creamy, crunchy, salty, and ...  2015-08-31   \n",
      "2  \"This green tea tastes so good! My girlfriend ...  2015-08-31   \n",
      "3  \"I love Melissa's brand but this is a great se...  2015-08-31   \n",
      "4                                             \"good\"  2015-08-31   \n",
      "\n",
      "  Sentiment_grcry  review_body_length  \n",
      "0        positive                 470  \n",
      "1        positive                  92  \n",
      "2        positive                  60  \n",
      "3        positive                  85  \n",
      "4        positive                   6  \n"
     ]
    }
   ],
   "source": [
    "# Print the Modified Dataset\n",
    "print(\"Modified Dataset:\")\n",
    "print(df.head())"
   ]
  },
  {
   "cell_type": "code",
   "execution_count": 15,
   "id": "68ab9e5d",
   "metadata": {},
   "outputs": [
    {
     "data": {
      "image/png": "[encoded data removed]",
      "text/plain": [
       "<Figure size 432x288 with 1 Axes>"
      ]
     },
     "metadata": {
      "needs_background": "light"
     },
     "output_type": "display_data"
    }
   ],
   "source": [
    "#Histogram of star Rating\n",
    "df['star_rating'].plot(kind='hist', bins=5, color='yellow', edgecolor='black')\n",
    "plt.title('Distribution of Star Ratings')\n",
    "plt.xlabel('Star Rating')\n",
    "plt.ylabel('Frequency')\n",
    "plt.show()"
   ]
  },
  {
   "cell_type": "code",
   "execution_count": 16,
   "id": "1cf745cf",
   "metadata": {},
   "outputs": [
    {
     "data": {
      "image/png": "[encoded data removed]",
      "text/plain": [
       "<Figure size 432x288 with 1 Axes>"
      ]
     },
     "metadata": {
      "needs_background": "light"
     },
     "output_type": "display_data"
    }
   ],
   "source": [
    "#boxplot of Total Votes\n",
    "df.boxplot(column='total_votes', by='product_category', vert=False, grid=False)\n",
    "plt.title('Boxplot of Total Votes by Product Category\\n\\n')\n",
    "plt.xlabel('Total Votes')\n",
    "plt.ylabel('Product Category')\n",
    "plt.show()"
   ]
  },
  {
   "cell_type": "code",
   "execution_count": 18,
   "id": "690956e7",
   "metadata": {},
   "outputs": [
    {
     "data": {
      "image/png": "[encoded data removed]",
      "text/plain": [
       "<Figure size 432x288 with 1 Axes>"
      ]
     },
     "metadata": {
      "needs_background": "light"
     },
     "output_type": "display_data"
    }
   ],
   "source": [
    "# Scatter plot of helpful votes vs. total votes\n",
    "df.plot.scatter(x='helpful_votes', y='total_votes', alpha=0.7, color='darkblue')\n",
    "plt.title('Scatter Plot of Helpful Votes vs. Total Votes')\n",
    "plt.xlabel('Helpful Votes')\n",
    "plt.ylabel('Total Votes')\n",
    "plt.show()"
   ]
  },
  {
   "cell_type": "code",
   "execution_count": 19,
   "id": "76ad1047",
   "metadata": {},
   "outputs": [],
   "source": [
    "# Save the cleaned dataset to a new CSV file\n",
    "df.to_csv('cleaned_amazon_grocery_data.csv', index=False)"
   ]
  },
  {
   "cell_type": "code",
   "execution_count": null,
   "id": "1c45af05",
   "metadata": {},
   "outputs": [],
   "source": []
  }
 ],
 "metadata": {
  "kernelspec": {
   "display_name": "Python 3",
   "language": "python",
   "name": "python3"
  },
  "language_info": {
   "codemirror_mode": {
    "name": "ipython",
    "version": 3
   },
   "file_extension": ".py",
   "mimetype": "text/x-python",
   "name": "python",
   "nbconvert_exporter": "python",
   "pygments_lexer": "ipython3",
   "version": "3.8.8"
  }
 },
 "nbformat": 4,
 "nbformat_minor": 5
}
